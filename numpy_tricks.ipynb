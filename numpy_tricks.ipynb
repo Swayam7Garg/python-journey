{
 "cells": [
  {
   "cell_type": "code",
   "execution_count": 1,
   "id": "1e89b824",
   "metadata": {},
   "outputs": [],
   "source": [
    "import numpy as np"
   ]
  },
  {
   "cell_type": "markdown",
   "id": "357e847a",
   "metadata": {},
   "source": [
    "### np.sort"
   ]
  },
  {
   "cell_type": "code",
   "execution_count": 2,
   "id": "34efa420",
   "metadata": {},
   "outputs": [
    {
     "data": {
      "text/plain": [
       "array([49, 34, 51, 21, 82,  2, 32, 72, 24, 75,  5, 54, 85, 43, 11])"
      ]
     },
     "execution_count": 2,
     "metadata": {},
     "output_type": "execute_result"
    }
   ],
   "source": [
    "a = np.random.randint(1,100,15)\n",
    "a"
   ]
  },
  {
   "cell_type": "code",
   "execution_count": 4,
   "id": "b5b2aea7",
   "metadata": {},
   "outputs": [
    {
     "data": {
      "text/plain": [
       "array([[91, 50, 87, 59],\n",
       "       [93, 77, 92, 94],\n",
       "       [40, 14, 60, 69],\n",
       "       [89, 55, 70, 41],\n",
       "       [69, 74, 44,  2],\n",
       "       [85, 42, 50,  7]])"
      ]
     },
     "execution_count": 4,
     "metadata": {},
     "output_type": "execute_result"
    }
   ],
   "source": [
    "b = np.random.randint(1,100,24).reshape(6,4)\n",
    "b"
   ]
  },
  {
   "cell_type": "code",
   "execution_count": 5,
   "id": "a31ebf7c",
   "metadata": {},
   "outputs": [
    {
     "data": {
      "text/plain": [
       "array([ 2,  5, 11, 21, 24, 32, 34, 43, 49, 51, 54, 72, 75, 82, 85])"
      ]
     },
     "execution_count": 5,
     "metadata": {},
     "output_type": "execute_result"
    }
   ],
   "source": [
    "np.sort(a)"
   ]
  },
  {
   "cell_type": "code",
   "execution_count": 7,
   "id": "112f60b0",
   "metadata": {},
   "outputs": [
    {
     "data": {
      "text/plain": [
       "array([[40, 14, 44,  2],\n",
       "       [69, 42, 50,  7],\n",
       "       [85, 50, 60, 41],\n",
       "       [89, 55, 70, 59],\n",
       "       [91, 74, 87, 69],\n",
       "       [93, 77, 92, 94]])"
      ]
     },
     "execution_count": 7,
     "metadata": {},
     "output_type": "execute_result"
    }
   ],
   "source": [
    "np.sort(b ,axis =0)"
   ]
  },
  {
   "cell_type": "code",
   "execution_count": 8,
   "id": "0cee6665",
   "metadata": {},
   "outputs": [
    {
     "data": {
      "text/plain": [
       "array([85, 82, 75, 72, 54, 51, 49, 43, 34, 32, 24, 21, 11,  5,  2])"
      ]
     },
     "execution_count": 8,
     "metadata": {},
     "output_type": "execute_result"
    }
   ],
   "source": [
    " # to sort reverse\n",
    "np.sort(a)[::-1]"
   ]
  },
  {
   "cell_type": "markdown",
   "id": "81766ad9",
   "metadata": {},
   "source": [
    "### append"
   ]
  },
  {
   "cell_type": "code",
   "execution_count": 9,
   "id": "e307283f",
   "metadata": {},
   "outputs": [
    {
     "data": {
      "text/plain": [
       "array([ 49,  34,  51,  21,  82,   2,  32,  72,  24,  75,   5,  54,  85,\n",
       "        43,  11, 200])"
      ]
     },
     "execution_count": 9,
     "metadata": {},
     "output_type": "execute_result"
    }
   ],
   "source": [
    "np.append(a,200)"
   ]
  },
  {
   "cell_type": "code",
   "execution_count": 10,
   "id": "35742aba",
   "metadata": {},
   "outputs": [
    {
     "data": {
      "text/plain": [
       "array([[91., 50., 87., 59.,  1.],\n",
       "       [93., 77., 92., 94.,  1.],\n",
       "       [40., 14., 60., 69.,  1.],\n",
       "       [89., 55., 70., 41.,  1.],\n",
       "       [69., 74., 44.,  2.,  1.],\n",
       "       [85., 42., 50.,  7.,  1.]])"
      ]
     },
     "execution_count": 10,
     "metadata": {},
     "output_type": "execute_result"
    }
   ],
   "source": [
    "np.append(b,np.ones((b.shape[0] ,1)),axis = 1)"
   ]
  },
  {
   "cell_type": "markdown",
   "id": "fa9f8913",
   "metadata": {},
   "source": [
    "### np.concatenate"
   ]
  },
  {
   "cell_type": "code",
   "execution_count": 11,
   "id": "61b9789d",
   "metadata": {},
   "outputs": [
    {
     "name": "stdout",
     "output_type": "stream",
     "text": [
      "[[0 1 2]\n",
      " [3 4 5]]\n",
      "[[ 6  7  8]\n",
      " [ 9 10 11]]\n"
     ]
    }
   ],
   "source": [
    "c = np.arange(6).reshape(2,3)\n",
    "d = np.arange(6,12).reshape(2,3)\n",
    "\n",
    "print(c)\n",
    "print(d)"
   ]
  },
  {
   "cell_type": "code",
   "execution_count": 14,
   "id": "95292a60",
   "metadata": {},
   "outputs": [
    {
     "data": {
      "text/plain": [
       "array([[ 0,  1,  2,  6,  7,  8],\n",
       "       [ 3,  4,  5,  9, 10, 11]])"
      ]
     },
     "execution_count": 14,
     "metadata": {},
     "output_type": "execute_result"
    }
   ],
   "source": [
    "np.concatenate((c,d),axis = 1)"
   ]
  },
  {
   "cell_type": "markdown",
   "id": "3979ce6c",
   "metadata": {},
   "source": [
    "### np.unique"
   ]
  },
  {
   "cell_type": "code",
   "execution_count": 15,
   "id": "1e12b21c",
   "metadata": {},
   "outputs": [
    {
     "data": {
      "text/plain": [
       "array([ 1,  2,  3,  5,  6, 23, 45, 52, 54])"
      ]
     },
     "execution_count": 15,
     "metadata": {},
     "output_type": "execute_result"
    }
   ],
   "source": [
    "e = np.array([1,2,2,5,2,54,6,3,45,2,5,3,23,52,5,23,2])\n",
    "np.unique(e)"
   ]
  },
  {
   "cell_type": "code",
   "execution_count": 17,
   "id": "63d27c4b",
   "metadata": {},
   "outputs": [
    {
     "data": {
      "text/plain": [
       "array([[49],\n",
       "       [34],\n",
       "       [51],\n",
       "       [21],\n",
       "       [82],\n",
       "       [ 2],\n",
       "       [32],\n",
       "       [72],\n",
       "       [24],\n",
       "       [75],\n",
       "       [ 5],\n",
       "       [54],\n",
       "       [85],\n",
       "       [43],\n",
       "       [11]])"
      ]
     },
     "execution_count": 17,
     "metadata": {},
     "output_type": "execute_result"
    }
   ],
   "source": [
    "np.expand_dims(a , axis = 1)  "
   ]
  },
  {
   "cell_type": "markdown",
   "id": "8d30d704",
   "metadata": {},
   "source": [
    "### np.where"
   ]
  },
  {
   "cell_type": "code",
   "execution_count": 18,
   "id": "9ba10f81",
   "metadata": {},
   "outputs": [
    {
     "data": {
      "text/plain": [
       "array([49, 34, 51, 21, 82,  2, 32, 72, 24, 75,  5, 54, 85, 43, 11])"
      ]
     },
     "execution_count": 18,
     "metadata": {},
     "output_type": "execute_result"
    }
   ],
   "source": [
    "a"
   ]
  },
  {
   "cell_type": "code",
   "execution_count": null,
   "id": "446f7729",
   "metadata": {},
   "outputs": [
    {
     "data": {
      "text/plain": [
       "(array([ 2,  4,  7,  9, 11, 12], dtype=int64),)"
      ]
     },
     "execution_count": 19,
     "metadata": {},
     "output_type": "execute_result"
    }
   ],
   "source": [
    "np.where(a>50) # gives index position based on condition"
   ]
  },
  {
   "cell_type": "code",
   "execution_count": null,
   "id": "5eb9c1aa",
   "metadata": {},
   "outputs": [
    {
     "data": {
      "text/plain": [
       "array([49, 34,  0, 21,  0,  2, 32,  0, 24,  0,  5,  0,  0, 43, 11])"
      ]
     },
     "execution_count": 20,
     "metadata": {},
     "output_type": "execute_result"
    }
   ],
   "source": [
    "np.where(a>50 ,0 , a)#np.where(condition ,true , false)"
   ]
  },
  {
   "cell_type": "markdown",
   "id": "0afb31ef",
   "metadata": {},
   "source": [
    "### np.argmax"
   ]
  },
  {
   "cell_type": "code",
   "execution_count": 21,
   "id": "5b0f7215",
   "metadata": {},
   "outputs": [
    {
     "data": {
      "text/plain": [
       "12"
      ]
     },
     "execution_count": 21,
     "metadata": {},
     "output_type": "execute_result"
    }
   ],
   "source": [
    "np.argmax(a)"
   ]
  },
  {
   "cell_type": "code",
   "execution_count": 24,
   "id": "63c0ce77",
   "metadata": {},
   "outputs": [
    {
     "data": {
      "text/plain": [
       "array([[91, 50, 87, 59],\n",
       "       [93, 77, 92, 94],\n",
       "       [40, 14, 60, 69],\n",
       "       [89, 55, 70, 41],\n",
       "       [69, 74, 44,  2],\n",
       "       [85, 42, 50,  7]])"
      ]
     },
     "execution_count": 24,
     "metadata": {},
     "output_type": "execute_result"
    }
   ],
   "source": [
    "b"
   ]
  },
  {
   "cell_type": "code",
   "execution_count": 23,
   "id": "b8a207c4",
   "metadata": {},
   "outputs": [
    {
     "data": {
      "text/plain": [
       "array([0, 3, 3, 0, 1, 0], dtype=int64)"
      ]
     },
     "execution_count": 23,
     "metadata": {},
     "output_type": "execute_result"
    }
   ],
   "source": [
    "np.argmax(b,axis = 1)"
   ]
  },
  {
   "cell_type": "code",
   "execution_count": 25,
   "id": "600c9bea",
   "metadata": {},
   "outputs": [
    {
     "data": {
      "text/plain": [
       "5"
      ]
     },
     "execution_count": 25,
     "metadata": {},
     "output_type": "execute_result"
    }
   ],
   "source": [
    "np.argmin(a)"
   ]
  },
  {
   "cell_type": "markdown",
   "id": "8c319beb",
   "metadata": {},
   "source": [
    "### np.cumsum"
   ]
  },
  {
   "cell_type": "code",
   "execution_count": 27,
   "id": "e817c3cd",
   "metadata": {},
   "outputs": [
    {
     "data": {
      "text/plain": [
       "array([ 49,  83, 134, 155, 237, 239, 271, 343, 367, 442, 447, 501, 586,\n",
       "       629, 640])"
      ]
     },
     "execution_count": 27,
     "metadata": {},
     "output_type": "execute_result"
    }
   ],
   "source": [
    "np.cumsum(a)"
   ]
  },
  {
   "cell_type": "code",
   "execution_count": 26,
   "id": "eaf1a29c",
   "metadata": {},
   "outputs": [
    {
     "data": {
      "text/plain": [
       "array([  91,  141,  228,  287,  380,  457,  549,  643,  683,  697,  757,\n",
       "        826,  915,  970, 1040, 1081, 1150, 1224, 1268, 1270, 1355, 1397,\n",
       "       1447, 1454])"
      ]
     },
     "execution_count": 26,
     "metadata": {},
     "output_type": "execute_result"
    }
   ],
   "source": [
    "np.cumsum(b)"
   ]
  },
  {
   "cell_type": "code",
   "execution_count": 28,
   "id": "ac289d54",
   "metadata": {},
   "outputs": [
    {
     "data": {
      "text/plain": [
       "array([        49,       1666,      84966,    1784286,  146311452,\n",
       "        292622904,  773998336, -106694656, 1734295552, 1223147520,\n",
       "       1820770304, -462651392, -670662656, 1226276864,  604143616])"
      ]
     },
     "execution_count": 28,
     "metadata": {},
     "output_type": "execute_result"
    }
   ],
   "source": [
    "np.cumprod(a)"
   ]
  },
  {
   "cell_type": "markdown",
   "id": "58e94d94",
   "metadata": {},
   "source": [
    "### np.percentile"
   ]
  },
  {
   "cell_type": "code",
   "execution_count": 31,
   "id": "462c0086",
   "metadata": {},
   "outputs": [
    {
     "data": {
      "text/plain": [
       "array([49, 34, 51, 21, 82,  2, 32, 72, 24, 75,  5, 54, 85, 43, 11])"
      ]
     },
     "execution_count": 31,
     "metadata": {},
     "output_type": "execute_result"
    }
   ],
   "source": [
    "a"
   ]
  },
  {
   "cell_type": "code",
   "execution_count": 32,
   "id": "7d4ee6b6",
   "metadata": {},
   "outputs": [
    {
     "data": {
      "text/plain": [
       "63.0"
      ]
     },
     "execution_count": 32,
     "metadata": {},
     "output_type": "execute_result"
    }
   ],
   "source": [
    "np.percentile(a,75)"
   ]
  },
  {
   "cell_type": "markdown",
   "id": "5c0840c4",
   "metadata": {},
   "source": [
    "### np.histogram"
   ]
  },
  {
   "cell_type": "code",
   "execution_count": 33,
   "id": "dd5380d0",
   "metadata": {},
   "outputs": [
    {
     "data": {
      "text/plain": [
       "array([49, 34, 51, 21, 82,  2, 32, 72, 24, 75,  5, 54, 85, 43, 11])"
      ]
     },
     "execution_count": 33,
     "metadata": {},
     "output_type": "execute_result"
    }
   ],
   "source": [
    "a"
   ]
  },
  {
   "cell_type": "code",
   "execution_count": 34,
   "id": "b13d43f0",
   "metadata": {},
   "outputs": [
    {
     "data": {
      "text/plain": [
       "(array([2, 1, 2, 2, 2, 2, 0, 2, 2, 0], dtype=int64),\n",
       " array([  0,  10,  20,  30,  40,  50,  60,  70,  80,  90, 100]))"
      ]
     },
     "execution_count": 34,
     "metadata": {},
     "output_type": "execute_result"
    }
   ],
   "source": [
    "np.histogram(a,bins = [0,10 ,20 ,30 ,40 ,50 ,60 ,70 ,80,90,100])"
   ]
  },
  {
   "cell_type": "markdown",
   "id": "559728bf",
   "metadata": {},
   "source": [
    "### np.corrcoef"
   ]
  },
  {
   "cell_type": "markdown",
   "id": "d9008db1",
   "metadata": {},
   "source": [
    "### np.isin"
   ]
  },
  {
   "cell_type": "code",
   "execution_count": 35,
   "id": "bfef5db3",
   "metadata": {},
   "outputs": [
    {
     "data": {
      "text/plain": [
       "array([49, 32, 54])"
      ]
     },
     "execution_count": 35,
     "metadata": {},
     "output_type": "execute_result"
    }
   ],
   "source": [
    "items = [39,49,32,0,13,32,54]\n",
    "a[np.isin(a,items)]"
   ]
  },
  {
   "cell_type": "markdown",
   "id": "791bb756",
   "metadata": {},
   "source": [
    "### np.flip"
   ]
  },
  {
   "cell_type": "code",
   "execution_count": 37,
   "id": "f3867e20",
   "metadata": {},
   "outputs": [
    {
     "data": {
      "text/plain": [
       "array([11, 43, 85, 54,  5, 75, 24, 72, 32,  2, 82, 21, 51, 34, 49])"
      ]
     },
     "execution_count": 37,
     "metadata": {},
     "output_type": "execute_result"
    }
   ],
   "source": [
    "np.flip(a)"
   ]
  },
  {
   "cell_type": "code",
   "execution_count": 38,
   "id": "a5f10ef7",
   "metadata": {},
   "outputs": [
    {
     "data": {
      "text/plain": [
       "array([[59, 87, 50, 91],\n",
       "       [94, 92, 77, 93],\n",
       "       [69, 60, 14, 40],\n",
       "       [41, 70, 55, 89],\n",
       "       [ 2, 44, 74, 69],\n",
       "       [ 7, 50, 42, 85]])"
      ]
     },
     "execution_count": 38,
     "metadata": {},
     "output_type": "execute_result"
    }
   ],
   "source": [
    "np.flip(b,axis = 1)"
   ]
  },
  {
   "cell_type": "markdown",
   "id": "dd45029e",
   "metadata": {},
   "source": [
    "### np.put"
   ]
  },
  {
   "cell_type": "code",
   "execution_count": 39,
   "id": "249907ff",
   "metadata": {},
   "outputs": [],
   "source": [
    "# can replace specific elements of an array with given values of array\n",
    "np.put(a , [0,1] , [110,530])"
   ]
  },
  {
   "cell_type": "code",
   "execution_count": 40,
   "id": "4691074b",
   "metadata": {},
   "outputs": [
    {
     "data": {
      "text/plain": [
       "array([110, 530,  51,  21,  82,   2,  32,  72,  24,  75,   5,  54,  85,\n",
       "        43,  11])"
      ]
     },
     "execution_count": 40,
     "metadata": {},
     "output_type": "execute_result"
    }
   ],
   "source": [
    "a"
   ]
  },
  {
   "cell_type": "markdown",
   "id": "d48da602",
   "metadata": {},
   "source": [
    "### np.delete"
   ]
  },
  {
   "cell_type": "code",
   "execution_count": 41,
   "id": "6a90a138",
   "metadata": {},
   "outputs": [],
   "source": [
    "# returns a new array with deletion of subarray"
   ]
  },
  {
   "cell_type": "code",
   "execution_count": 42,
   "id": "8dde1fb4",
   "metadata": {},
   "outputs": [
    {
     "data": {
      "text/plain": [
       "array([530,  21,   2,  32,  72,  24,  75,   5,  54,  85,  43,  11])"
      ]
     },
     "execution_count": 42,
     "metadata": {},
     "output_type": "execute_result"
    }
   ],
   "source": [
    "np.delete(a , [0,2,4])"
   ]
  },
  {
   "cell_type": "markdown",
   "id": "e7f8596b",
   "metadata": {},
   "source": [
    "### Set functions"
   ]
  },
  {
   "cell_type": "code",
   "execution_count": 43,
   "id": "a348edeb",
   "metadata": {},
   "outputs": [
    {
     "data": {
      "text/plain": [
       "array([1, 2, 3, 4, 5, 6, 7])"
      ]
     },
     "execution_count": 43,
     "metadata": {},
     "output_type": "execute_result"
    }
   ],
   "source": [
    "m= np.array([1,2,3,4,5])\n",
    "n= np.array([3,4,5,6,7])\n",
    "\n",
    "np.union1d(m,n)"
   ]
  },
  {
   "cell_type": "code",
   "execution_count": 44,
   "id": "cdddba66",
   "metadata": {},
   "outputs": [
    {
     "data": {
      "text/plain": [
       "array([3, 4, 5])"
      ]
     },
     "execution_count": 44,
     "metadata": {},
     "output_type": "execute_result"
    }
   ],
   "source": [
    "np.intersect1d(m,n)"
   ]
  },
  {
   "cell_type": "code",
   "execution_count": 45,
   "id": "abd6805d",
   "metadata": {},
   "outputs": [
    {
     "data": {
      "text/plain": [
       "array([6, 7])"
      ]
     },
     "execution_count": 45,
     "metadata": {},
     "output_type": "execute_result"
    }
   ],
   "source": [
    "np.setdiff1d(n,m)"
   ]
  },
  {
   "cell_type": "code",
   "execution_count": 46,
   "id": "59ec554b",
   "metadata": {},
   "outputs": [
    {
     "data": {
      "text/plain": [
       "array([1, 2, 6, 7])"
      ]
     },
     "execution_count": 46,
     "metadata": {},
     "output_type": "execute_result"
    }
   ],
   "source": [
    "np.setxor1d(m,n)"
   ]
  },
  {
   "cell_type": "code",
   "execution_count": 47,
   "id": "a5473252",
   "metadata": {},
   "outputs": [
    {
     "data": {
      "text/plain": [
       "array([ True, False, False, False, False])"
      ]
     },
     "execution_count": 47,
     "metadata": {},
     "output_type": "execute_result"
    }
   ],
   "source": [
    "np.in1d(m,1)"
   ]
  },
  {
   "cell_type": "markdown",
   "id": "40144ff3",
   "metadata": {},
   "source": [
    "### np.clip"
   ]
  },
  {
   "cell_type": "code",
   "execution_count": 49,
   "id": "a18d4d48",
   "metadata": {},
   "outputs": [
    {
     "data": {
      "text/plain": [
       "array([110, 530,  51,  21,  82,   2,  32,  72,  24,  75,   5,  54,  85,\n",
       "        43,  11])"
      ]
     },
     "execution_count": 49,
     "metadata": {},
     "output_type": "execute_result"
    }
   ],
   "source": [
    "a"
   ]
  },
  {
   "cell_type": "code",
   "execution_count": 48,
   "id": "16d25fc6",
   "metadata": {},
   "outputs": [
    {
     "data": {
      "text/plain": [
       "array([75, 75, 51, 25, 75, 25, 32, 72, 25, 75, 25, 54, 75, 43, 25])"
      ]
     },
     "execution_count": 48,
     "metadata": {},
     "output_type": "execute_result"
    }
   ],
   "source": [
    "np.clip(a,a_min=25,a_max=75)"
   ]
  },
  {
   "cell_type": "code",
   "execution_count": null,
   "id": "2759b75d",
   "metadata": {},
   "outputs": [],
   "source": []
  }
 ],
 "metadata": {
  "kernelspec": {
   "display_name": "base",
   "language": "python",
   "name": "python3"
  },
  "language_info": {
   "codemirror_mode": {
    "name": "ipython",
    "version": 3
   },
   "file_extension": ".py",
   "mimetype": "text/x-python",
   "name": "python",
   "nbconvert_exporter": "python",
   "pygments_lexer": "ipython3",
   "version": "3.12.7"
  }
 },
 "nbformat": 4,
 "nbformat_minor": 5
}
